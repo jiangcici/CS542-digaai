{
 "cells": [
  {
   "cell_type": "code",
   "execution_count": 48,
   "metadata": {},
   "outputs": [
    {
     "name": "stdout",
     "output_type": "stream",
     "text": [
      "Tested with:\n",
      "Python 3.6.1 |Anaconda custom (x86_64)| (default, May 11 2017, 13:04:09) \n",
      "[GCC 4.2.1 Compatible Apple LLVM 6.0 (clang-600.0.57)]\n",
      "{'numpy': '1.12.1', 'matplotlib': '3.0.0'}\n"
     ]
    }
   ],
   "source": [
    "import sys\n",
    "import numpy as np\n",
    "import matplotlib\n",
    "import matplotlib.pyplot as plt\n",
    "import csv\n",
    "import gzip\n",
    "import gensim \n",
    "import logging\n",
    "\n",
    "#from gensim.models import Word2Vec\n",
    "from sklearn.decomposition import PCA\n",
    "#from matplotlib import plot\n",
    "\n",
    "print('Tested with:')\n",
    "print('Python', sys.version)\n",
    "print({x.__name__: x.__version__ for x in [np, matplotlib]})"
   ]
  },
  {
   "cell_type": "code",
   "execution_count": 49,
   "metadata": {},
   "outputs": [
    {
     "name": "stdout",
     "output_type": "stream",
     "text": [
      "0 Ithalohfonseca Chaverinho 1\n",
      "1 Gustavo Gon\\xc3\\xa7alves 1\n",
      "2 Rafael Geraldo 1\n",
      "3 Cristyan Victor 1\n"
     ]
    }
   ],
   "source": [
    "def read_classification_csv_data(fn):\n",
    "    with open(fn) as csvfile:\n",
    "        readCSV = csv.reader(csvfile, delimiter=',')\n",
    "        ID_ = []\n",
    "        First_n_ = []\n",
    "        Last_n_ = []\n",
    "        Is_Br_ = []\n",
    "        for row in readCSV:\n",
    "            #print(row)\n",
    "            #print(row[0], row[1], row[2], row[3])\n",
    "            ID = row[0]\n",
    "            First_n = row[1]\n",
    "            Last_n = row[2]\n",
    "            Is_Br = row[3]\n",
    "            \n",
    "            ID_.append(ID)\n",
    "            First_n_ .append(First_n)\n",
    "            Last_n_ .append(Last_n)\n",
    "            Is_Br_.append(Is_Br)\n",
    "    return ID_, First_n_, Last_n_, Is_Br_\n",
    "\n",
    "ID, First_name, Last_name, Is_Br = read_classification_csv_data('/Users/apple1/Desktop/project542/all/train.txt')\n",
    "print(ID[1], First_name[1], Last_name[1], Is_Br[1])\n",
    "print(ID[2], First_name[2], Last_name[2], Is_Br[2])\n",
    "print(ID[3], First_name[3], Last_name[3], Is_Br[3])\n",
    "print(ID[4], First_name[4], Last_name[4], Is_Br[4])"
   ]
  },
  {
   "cell_type": "code",
   "execution_count": 44,
   "metadata": {},
   "outputs": [
    {
     "name": "stdout",
     "output_type": "stream",
     "text": [
      "[['Ithalohfonseca'], ['Gustavo'], ['Rafael'], ['Cristyan'], ['Valsemorborgesdesouza'], ['Kareem'], ['Bryan'], ['Aishwarya'], ['Joshua'], ['Nikta']]\n",
      "Word2Vec(vocab=10, size=150, alpha=0.025)\n"
     ]
    }
   ],
   "source": [
    "sentences = []\n",
    "for i in range(1,6):\n",
    "    sentences.append([First_name[i]])\n",
    "for i in range(2500,2505):\n",
    "    sentences.append([First_name[i]])\n",
    "print(sentences)\n",
    "model = gensim.models.Word2Vec(\n",
    "        sentences,\n",
    "        size=150,\n",
    "        window=10,\n",
    "        min_count=1,\n",
    "        workers=10)\n",
    "model.train(sentences, total_examples=len(sentences), epochs=10)\n",
    "\n",
    "print(model)"
   ]
  },
  {
   "cell_type": "code",
   "execution_count": 45,
   "metadata": {},
   "outputs": [
    {
     "name": "stdout",
     "output_type": "stream",
     "text": [
      "['Ithalohfonseca', 'Gustavo', 'Rafael', 'Cristyan', 'Valsemorborgesdesouza', 'Kareem', 'Bryan', 'Aishwarya', 'Joshua', 'Nikta']\n",
      "[ -7.48880848e-04   1.86553714e-03   2.37931890e-04   3.13374586e-03\n",
      "  -2.35320348e-03   1.65950623e-03  -5.62950212e-04  -1.16571136e-04\n",
      "  -1.31663994e-03  -8.66025861e-04   1.50236790e-03  -2.09952216e-03\n",
      "   2.48827413e-03   1.22774555e-03   8.85833520e-04  -2.97412951e-03\n",
      "  -3.27181583e-03  -2.17801798e-03  -1.69175153e-03   2.53842142e-03\n",
      "   1.07310701e-03  -4.64476325e-04   2.22654827e-03  -6.00006024e-04\n",
      "  -2.99488835e-04   2.52244971e-03   2.24447623e-03  -1.42191933e-03\n",
      "  -3.01764649e-03  -2.13572965e-03  -1.28148834e-03  -1.07536325e-03\n",
      "  -2.82421522e-03  -3.05297598e-03   6.42283645e-04   6.17990969e-04\n",
      "   4.56754555e-04   2.18722038e-03   2.43999879e-04   2.45731161e-03\n",
      "  -2.82274862e-03  -3.05172522e-03   2.42149970e-03  -2.96943518e-03\n",
      "  -1.94493379e-03   2.12247157e-03   9.43359511e-04   2.61730026e-03\n",
      "   1.84830779e-03  -1.54779133e-04   3.30847432e-03   2.89938238e-04\n",
      "  -6.19312283e-04  -2.14335253e-03  -1.29302614e-03   2.16238759e-03\n",
      "   1.17323163e-03   8.63096830e-06   3.78839439e-04  -2.71515409e-03\n",
      "   7.69480481e-04  -8.47068150e-04   2.64283363e-03   3.23528284e-03\n",
      "  -7.41191499e-04   2.54516560e-03  -1.00934274e-04  -2.87570385e-03\n",
      "  -1.57150405e-03   1.11246947e-04  -1.08875684e-03   2.15751003e-03\n",
      "   1.54525437e-03  -3.07471491e-03   1.14912831e-03  -3.03885015e-03\n",
      "  -4.31581657e-06  -2.39102938e-03   3.97219264e-04   2.83667614e-04\n",
      "   4.85098484e-04   7.55790970e-04  -1.22523552e-03  -8.80487438e-04\n",
      "  -1.58767356e-03  -1.73497375e-03  -1.44824665e-03   3.65977176e-04\n",
      "   1.89585693e-03  -1.67736923e-03  -3.00481473e-03   1.67378492e-03\n",
      "   1.36303622e-03  -3.28201335e-03  -2.33354233e-03   1.64851313e-03\n",
      "   2.60384148e-03  -3.05789826e-03  -3.95529903e-04   1.25259021e-03\n",
      "   1.49467948e-03   1.57576380e-03   1.37853029e-03   6.52375980e-04\n",
      "   1.45944918e-03  -2.32282118e-03   6.91674766e-04  -3.11802258e-03\n",
      "   1.09599240e-03   1.06619194e-03  -9.43705381e-04   2.27084500e-03\n",
      "   1.31805416e-03   2.46770447e-03   2.44177383e-04  -1.18442310e-03\n",
      "  -1.42331549e-03  -7.49498548e-04  -2.13660835e-03  -2.57972162e-03\n",
      "  -9.02164320e-04   1.64156768e-03   2.57916749e-03   2.04777671e-03\n",
      "  -2.86395010e-03  -2.62782443e-03   1.49949035e-03   1.27781392e-03\n",
      "   1.51068484e-03  -3.20635433e-03  -2.19797529e-03   2.32714065e-03\n",
      "  -2.50933226e-03  -1.38050294e-03  -3.96869378e-04  -5.62509289e-04\n",
      "   3.05854855e-03   1.14330743e-03  -6.82076323e-04  -2.59765703e-03\n",
      "  -3.15460516e-03  -8.90342999e-05   3.29815131e-03  -1.14682526e-03\n",
      "  -2.80565885e-03   2.80946866e-03  -2.93888501e-03  -1.10826420e-03\n",
      "  -2.60561705e-03   1.72002346e-03]\n"
     ]
    },
    {
     "name": "stderr",
     "output_type": "stream",
     "text": [
      "/Users/apple1/anaconda/lib/python3.6/site-packages/ipykernel_launcher.py:3: DeprecationWarning: Call to deprecated `__getitem__` (Method will be removed in 4.0.0, use self.wv.__getitem__() instead).\n",
      "  This is separate from the ipykernel package so we can avoid doing imports until\n"
     ]
    }
   ],
   "source": [
    "words = list(model.wv.vocab)\n",
    "print(words)\n",
    "print(model['Rafael'])"
   ]
  },
  {
   "cell_type": "code",
   "execution_count": 66,
   "metadata": {},
   "outputs": [
    {
     "name": "stderr",
     "output_type": "stream",
     "text": [
      "/Users/apple1/anaconda/lib/python3.6/site-packages/ipykernel_launcher.py:3: DeprecationWarning: Call to deprecated `__getitem__` (Method will be removed in 4.0.0, use self.wv.__getitem__() instead).\n",
      "  This is separate from the ipykernel package so we can avoid doing imports until\n",
      "No handles with labels found to put in legend.\n"
     ]
    },
    {
     "data": {
      "image/png": "[encoded data removed]",
      "text/plain": [
       "<Figure size 432x288 with 1 Axes>"
      ]
     },
     "metadata": {},
     "output_type": "display_data"
    }
   ],
   "source": [
    "#visualize word\n",
    "\n",
    "X = model[model.wv.vocab]\n",
    "pca = PCA(n_components=2)\n",
    "result = pca.fit_transform(X)\n",
    "\n",
    "#plt.scatter(result[:, 0], result[:, 1], color = 'g')\n",
    "for i in range(0,5):\n",
    "    plt.scatter(result[i, 0], result[i, 1], color = 'g')\n",
    "for i in range(5,10):\n",
    "    plt.scatter(result[i, 0], result[i, 1], color = 'b')\n",
    "    \n",
    "words = list(model.wv.vocab)\n",
    "for i, word in enumerate(words):\n",
    "    plt.annotate(word, xy=(result[i, 0], result[i, 1]))\n",
    "    \n",
    "\n",
    "plt.show()"
   ]
  },
  {
   "cell_type": "code",
   "execution_count": 91,
   "metadata": {},
   "outputs": [
    {
     "name": "stdout",
     "output_type": "stream",
     "text": [
      "Word2Vec(vocab=1383, size=150, alpha=0.025)\n",
      "Word2Vec(vocab=1588, size=150, alpha=0.025)\n"
     ]
    }
   ],
   "source": [
    "sentence1 = []\n",
    "sentence2 = []\n",
    "for i in range(1, 5000):\n",
    "    if (Is_Br[i] == '1'): sentence1.append([First_name[i]])\n",
    "    else:\n",
    "        sentence2.append([First_name[i]])\n",
    "        \n",
    "# print(sentence1)\n",
    "# print(sentence2)\n",
    "model1 = gensim.models.Word2Vec(\n",
    "        sentence1,\n",
    "        size=150,\n",
    "        window=10,\n",
    "        min_count=1,\n",
    "        workers=10)\n",
    "model1.train(sentence1, total_examples=len(sentence1), epochs=10)\n",
    "\n",
    "model2 = gensim.models.Word2Vec(\n",
    "        sentence2,\n",
    "        size=150,\n",
    "        window=10,\n",
    "        min_count=1,\n",
    "        workers=10)\n",
    "model2.train(sentence2, total_examples=len(sentence2), epochs=10)\n",
    "print(model1)\n",
    "print(model2)"
   ]
  },
  {
   "cell_type": "code",
   "execution_count": 93,
   "metadata": {},
   "outputs": [
    {
     "name": "stdout",
     "output_type": "stream",
     "text": [
      "['Ithalohfonseca', 'Gustavo', 'Rafael', 'Cristyan', 'Valsemorborgesdesouza', 'Diegodereknobre', 'Paulonatan', 'Jardelurgalde', 'Deolindo', 'Gabrielbitencourt', 'Eduardo', 'Matheus', 'Fernando', 'Oohtalldomatheus', 'Gabriel', 'Raphael', 'Thiago', 'Juliandra', 'Guilherme', 'Willian', 'Welington', 'Eliasdaniel', 'Ruben', 'Hazard', 'Lucas', 'Pedro', 'Andre', 'Erick', 'Renan', 'Leandro', 'Kaiquesilva', 'Diego', 'Jean', 'Argiel', 'Caio', 'Paula', 'Jo\\\\xc3\\\\xa3ovitorde', 'John', 'Carlos', 'Matheusfilipe', 'Carla', 'Iori', 'Juliohenriquer', 'Rodolfo', 'Eugenio', 'Odilon', 'Paloma', 'Henry', 'F\\\\xc3\\\\xa1bio', 'Jackson', 'Vinicius', 'Frankisleyfrankisley', 'Rodrigo', 'Alex', 'Cleiton', 'Denilson', 'Leonardo', 'Daniel', 'Victor', 'Wesley', 'Aquiresrodrigues', 'Julio', 'Hed', 'Ramon', 'Kaique', 'Jo\\\\xc3\\\\xa3ovitor', 'Emellytramontina', 'Hugo', 'Franciscopaiva', 'Kauanzinhodo', 'Paulo', 'Davicosta', 'Douglas', 'V\\\\xc3\\\\xadtor', 'R\\\\xc3\\\\xab\\\\xc3\\\\xadn\\\\xc3\\\\xa1n', 'Gui', 'Claudio', 'Lucasgon\\\\xc3\\\\xa7alves', '\\\\xc3\\\\xa9rickrodrigues', 'Kleber', 'Emanoel', 'Welson', 'Andersoncarlos', 'Aninhachaves', 'Vqv', 'Relampago', 'Danilo', 'Davimoreiraxmichelle', 'Cristofer', 'Igor', 'Pablo', 'Rian', 'Arya', 'Marques', 'Allan', 'Bruna', 'Gabryel', 'Jh\\\\xc3\\\\xaaffyfscolliveira', 'Henrique', 'Czocca', 'Vitinhoo', 'Rene', 'Fabiano', 'Lucaas', 'Gleidison', 'Juninho', 'Joabe', 'Marcelo', 'Jo\\\\xc3\\\\xa3o', 'J\\\\xc3\\\\xbalio', 'Joao', 'Geovane', 'Willyam', 'Rams\\\\xc3\\\\xa9s', 'Jos\\\\xc3\\\\xa9', 'Theu', 'Ruan', 'Mauricio', 'Savio', 'Yan', 'Luis', 'Saulinde', 'Lazaro', 'Nauana', 'Roberto', 'Marcos', 'Nelyton', 'Jh', 'Davi', 'Luishenrique', 'Hertzdo', 'Fariz', 'Ricky', 'Kennedy', 'Otal', 'David', 'Alisson', 'Frankjonisalmeida', 'Maycon', 'Mikael', 'Kaicky', 'Hay', 'Henwer', 'Artur', 'Alexsandro', 'Leonardoaparecido', 'Mari', 'Isabella', 'Yuri', 'Ritesh', 'Yehya', 'Igorkfg', 'Vitor', 'Joaovictorpaiva', 'Ednilson', 'Mauro', 'Ferdi', 'Yago', 'Italo', 'Muryllo', 'Flavio', 'Bruno', 'Jo\\\\xc3\\\\xa3ovictor', 'Benni', 'Herman', 'Josyy', 'Breno', 'Samuel', 'Erik', 'Nila', 'M\\\\xc3\\\\xa1rioa\\\\xc3\\\\xa9xandre', 'Luquinhas', 'Josimar', 'Hitalo', 'Kayque', 'Carlosdaniel', 'Jorge', 'Gabriellh', 'Lukas', 'Gutembergue', 'Jo\\\\xc3\\\\xa3ovitorribeiro', 'Guilhermefernandes', 'Andreyqueiroz', 'Juan', 'Donato', 'D\\\\xc3\\\\xa4nyl\\\\xc3\\\\xb6', 'Renata', 'Gusttavo', 'Emanuel', 'Malucoda', 'Junior', 'Eduardodalmolin', 'Bernardo', 'Nirmal', 'Ivan', 'Maico', 'Lorena', 'Sandro', 'Thiagoyukiodamas', 'Rosy', 'Oglegendz', 'Andrey', 'Pedrovictorpedro', 'Roiseruscuvilca', 'Jamesrobert', 'Kawe', 'Mateus', 'Sergio', 'Wendryck', 'Jonasmeira', 'Gabrielmarques', 'Esdras', 'Eduardovergilio', 'Kaiky', 'Kevincardoso', 'Marcelohenrique', 'Willams', 'Sanjamulislam', 'Diogokruz', 'Elias', 'Allyson', 'Daniellenda', 'Guilhermerezende', 'Wellingtonborges', 'Kaik', 'M\\\\xc3\\\\xabn\\\\xc3\\\\xb6rf\\\\xc3\\\\xa4v\\\\xc3\\\\xablado', 'Jonatas', 'Ken', 'Jeanny', 'Rafaelbraga', 'Uell', 'Jefferson', 'Luizhenriquelimada', 'Matheusmachado', 'Kaua', 'Rifana', 'Ri\\\\xc3\\\\xafcardo', 'Walnadofirahul', 'Mariadorosario', 'Fabioaugusto', 'Jardell', 'Gilvan', 'Shavlego', 'Rennan', 'Kau\\\\xc3\\\\xa3', 'Luizfernando', 'Reginaldo', 'Kayo', 'Elissonferreira', 'Vitorpereira', 'Natan', 'Phmello', 'Kaleb', 'Karlosmorenoferreirade', 'Matheusde', 'Jose', 'Keven', 'Vhitinho', 'Felipesantos', 'L\\\\xc3\\\\xa9\\\\xc3\\\\xa8o', 'Acenis', 'Joelio', 'Yasmin', 'Antonio', 'Nikolas', 'Felipede', 'Luisaugusto', 'Mauriciocamejo', 'Fillipy', 'Luan', 'Jos\\\\xc3\\\\xa9carlosqueiroz', 'Elson', 'Luisfelipe', 'Whyllian', 'Higor', 'Djenane', 'Caua', 'Muhammadfaizalfebriana', 'Kennedyferreirada', 'Megacavaleiroclash', 'Ernand', 'Joaopauloespindola', 'Demons', 'Walterwilliamda', 'Thales', 'Linh', 'Jorginho', 'Anna', 'Hon', 'Eduardomarcondes', 'Uchira', 'Watasya', 'Joaovitor', 'Giovanny', 'G\\\\xc3\\\\xa4brii\\\\xc3\\\\xabl', 'Pedrojuanoliveira', 'Vitinhovt', 'Admnyastark', 'Marcoshenriquejesus', 'Mariade', 'Rehan', 'Alef', 'Kaiofelipenunes', 'Gabrieldebaldi', 'Marcus', 'L\\\\xc3\\\\xa9o', 'Jos\\\\xc3\\\\xa9meninoclemente', 'Nathan', 'Ashqi', 'Fazar', 'Andreaswhasinghton', 'Marcio', 'Thalison', 'Luizandredo', 'Aminovicswazo', 'Carlosfelipe', 'Allisson', 'Kau\\\\xc3\\\\xa3dos', 'Toddydo', 'Alejandrogutierrez', 'Johnny', 'Katy', 'Ricardo', 'Andr\\\\xc3\\\\xa9', 'Ygor', 'Guii', 'Tata', 'Helter', 'Juliocesarcosta', 'Filipe', 'Viniicius', 'Gu\\\\xc3\\\\xac\\\\xc3\\\\xach', 'Everthon', 'Pedroleonardobatistade', 'Orlan', 'Madalena', 'Alessandro', 'Fabio', 'Mike', 'Kelvyncau\\\\xc3\\\\xa3', 'Thalissonrodrigues', '\\\\xc3\\\\xaesacandrade', 'M\\\\xc3\\\\xbcller', 'Guilhermemacedo', 'Kelvinda', 'Felipe', 'Dodik', 'Rayllan', 'Pauloven\\\\xc3\\\\xa2ncio', 'Renatinho', 'Nicolas', 'Fabrinny', 'Cleuton', 'Yuniorvillaresdel', 'Pedrynho', 'Gabrielgonzagade', 'Brendo', 'Neemiasde', 'Beimar', 'Jamersonhenrique', 'Sandy', 'Adrian', 'Amitay', 'Moacyr', 'Giordani', 'Weell', 'Paulojos\\\\xc3\\\\xa9', 'Pedrohenryque', 'Weksley', 'Joaovictordossantos', 'Pedrinho', 'Angellydeilys', 'Marcoshenriques', 'Jefter', 'Jonathan', 'Othaviopeixoto', 'Gaitaninndos', 'Clauderson', 'Matheusmito', 'Luanzinho', 'Tommyindrasakti', 'Wallaceperes', 'Brendah', 'Luizfelipe', 'Leander', '\\\\xc3\\\\xb3l\\\\xc3\\\\xafv\\\\xc3\\\\xabrd\\\\xc3\\\\xafm\\\\xc3\\\\xafn\\\\xc3\\\\xads', 'Kaick', 'Lucasclaudinodos', 'Derick', 'Joaorafael', 'Geazi', 'Miqueias', 'Peter', 'Luiz', 'Yr', 'Hellton', 'Joaovictor', 'Hernandez', 'Wellington', 'Matheusferreira', 'Helleno', 'Cleberson', 'H\\\\xc3\\\\xa4\\\\xc4\\\\xbe\\\\xc3\\\\xaf\\\\xc5\\\\xa1', 'Murilo', 'Brunohenrique', 'Nicolasramosdo', 'Deusenirmartins', 'Luciano', 'Joaorosade', 'Gustavodasilva', 'Topfaleiroclash', 'Diegode', 'Rancelramos', '\\\\xc3\\\\xadtalo', 'Welisson', 'Girllan', 'Ot\\\\xc3\\\\xa1vio', 'Caique', 'Tiago', 'Kayky', 'Kaio', 'Rhuan', 'Mateuslucas', 'Marcosaugustinho', 'Miftahulmubincruzz', 'Fabiohenrique', 'Joaovitordias', 'Cristhian', 'D\\\\xc3\\\\xa9bora', 'Jhenifer', 'Albertocatarcione', 'Iury', 'Alfredo', 'Anayan', 'Len', 'Ballon', 'Brendodos', 'Bismaelborgesda', 'Weller', 'Pedromiranda', 'Abra\\\\xc3\\\\xa3o', 'Wilson', 'Leonardoveigados', 'Aline', 'Rog\\\\xc3\\\\xa9rio', 'Jo\\\\xc3\\\\xa3ofernando', 'Divaldo', 'Guilhermedasilvados', 'Santiago', 'Deividsouza', 'Wanderson', 'Atallfamozinha', 'Mendon\\\\xc3\\\\xa7a', 'J\\\\xc3\\\\xballio', 'Heriklesbarbosa', 'Silvonei', 'Thalisson', 'Gabrieluchiha', 'Tarcisio', 'Michaeldas', 'Yosua', 'Let\\\\xc3\\\\xadcia', 'Adrianoforllan', 'Zaini', 'Ravena', 'Di\\\\xc3\\\\xaago', 'Leirydos', 'Kind', 'Ramonlopes', 'Ma\\\\xc3\\\\xbaricio', 'Cau\\\\xc3\\\\xaa', 'Ytalodos', 'Everton', 'Kayke', 'Rafaelde', 'Felipeeh', 'Walisson', 'Ericarthurteixeira', 'Moises', 'Wellingtoncostados', 'Gabe', 'Alberto', 'Aleh', 'Gerson', 'Wagner', 'Gilberto', 'Giovanni', 'Walbert', 'Vandosiqueira', 'Marcioeduardo', 'Valclebson', 'Alexsandronovais', 'Fhelipe', 'Gustavoda', 'Anaskhoirul', 'Kevin', 'Nicholas', 'Ronnald', 'Arthuraugusto', 'Nino', 'Kenndy', 'Eric', 'Jonhherbert', 'Weder', 'Virginiawesleyoliveira', 'J\\\\xc3\\\\xa9ssica', 'Ryan', 'Notyelc', 'Rogerkaickmartinscabral', 'William', 'Manuelvicente', 'Micaelgomes', 'Gustavomiguez', 'Thalysson', 'Erickmartins', 'Emerson', 'Netzer', 'Arielbatistade', 'Jeff', 'Danielsouza', 'Pablosantiagosouza', 'Valdiney', 'Inac\\\\xc3\\\\xa9lio', 'Tnvitortrindade', 'Alexandre', 'Heitorrodriguesda', 'Nathanael', 'Guuh', 'Thauan', 'Otaviosantos', 'Wildan', 'Jsliumar', 'Jonas', 'Luisfernando', 'Feh', 'Leticia', 'Jesser', 'Jos\\\\xc3\\\\xa9augustoferreira', 'Arielson', 'J\\\\xc3\\\\xa9ssicafernandamonteiro', 'Willgner', 'Edymar', 'Maur\\\\xc3\\\\xadciode', 'In\\\\xc3\\\\xa1cio', 'Iqbals', 'Leo', 'Joza', 'Pauloferreira', 'Bento', 'Gabrielrodrigues', 'Idemar', 'Carloseduardoguedesde', 'F\\\\xc3\\\\xa1bion', 'Suender', 'Marciofernandes', 'Dhara', 'Vittor', 'Thone', 'Ian', 'Dantealexandersanchez', 'Carllosde', 'Fabioroux', 'Lucasferreira', 'Cleyton', 'Fabr\\\\xc3\\\\xadcio', 'Luisangelortega', 'Abelalexei', 'Victorhugosilva', 'Henriquepadovam', 'Carlinhos', 'Valmir', 'Victorjos\\\\xc3\\\\xa9', 'Rafaelambroziodos', 'P\\\\xc3\\\\xabdr\\\\xc3\\\\xb6', 'Vademir', 'Cau\\\\xc3\\\\xa3', 'Fernandoyudi', 'F\\\\xc3\\\\xa1biohenrique', 'Inam', 'Leanndroh', 'Muhammadhidayat', 'Alissonsouza', 'Jo\\\\xc3\\\\xa3onetto', 'Tody', 'Devid', 'Jhony', 'Fabricio', 'Richard', 'Juniior', 'Erikdos', 'Josivaldo', 'Gregory', 'Fillipe', 'Ph\\\\xe1\\\\xba\\\\xa1m', 'Wendel', 'Alexsandromoreira', 'Brunno', 'Ariel', 'Claudiney', 'Yuricleiton', 'Wesleysilva', 'Wallison', 'Evandro', 'Millena', '\\\\xc3\\\\xa9rick', 'Keyla', 'Baasansurenbat', 'Rayane', 'Mayara', 'Johnlucas', 'Robert', 'Adriano', 'Antoniopinheiro', 'Vagner', 'Osni', 'Romlichayank', 'Riley', 'Hallyfe', 'Pauloricardodornasdos', 'Qayyum', 'Lorr\\\\xc3\\\\xa4yne', 'Jeniferda', 'Augusto', 'Cristianorodriguesda', 'Lais', 'Victoria', 'Adson', 'Bruuno', 'Wallas', 'Marcosvinicios', 'Cristiano', 'Roni', 'Adriana', 'Ex', 'Priscila', 'Rea', 'Jo\\\\xc3\\\\xa3ovictordem\\\\xc3\\\\xa9trio', 'Wafadil', 'Pedrolucas', 'Crayzi', 'Nath\\\\xc3\\\\xa1ssia', 'Jhonatah', 'Diogo', 'Kauan', 'Jhonata', 'Al\\\\xc3\\\\xa9cio', 'Davinascimento', 'Theerawoot', 'Joalyson', 'Marceline', 'Renato', 'Dani', 'Vin\\\\xc3\\\\xadcius', 'Jamerson', 'Arilson', 'Ryancpx', 'Laercio', 'Jaiilan', 'Riangleisonborgesfernandesda', 'Narciso', 'Adam', 'Roger', 'Brendon', 'Kelvin', 'Silva', 'Kaungpyae', 'Vanderson', 'Jair', 'Thomy', 'Mayconborcelli', 'Elaine', 'Akbar', 'Thalis', 'Zahidlistiyandi', 'Talysson', 'Patrick', 'Q\\\\xc3\\\\xbc\\\\xc3\\\\xabl', 'Odair', 'G\\\\xc3\\\\xbch', 'Heinhein', 'Brunopereiranicaciodos', 'Pedrenrique', 'Wallace', 'Cristiane', 'Jandir', 'Biell', 'Jeffe', 'Denis', 'Gleuber', 'Danielli', 'Raffael', 'Aldy', 'Adelank', 'Otavio', 'Cibeleribeiroejess\\\\xc3\\\\xa9', 'Jo\\\\xc3\\\\xa3oes', 'Mailon', 'Nicollas', 'Wadson', 'Pabllo', 'Adrianb', 'Gabrielalvarenga', 'Adria', 'Gleidson', 'Chayane', 'Francismar', 'Carlosantonio', 'L\\\\xc3\\\\xabon\\\\xc3\\\\xa4rd\\\\xc3\\\\xb6', 'Mohamed', 'Rikelme', 'Dkvinicius', 'Endriw', 'Jordan', 'Cassiiane', 'Euler', 'Sabryna', 'Isaac', 'Pietrolamego', 'Ana', 'Deeiir', 'Anthonypereira', 'Paulohenrique', 'Ali', 'Spencer', 'Weverton', 'Ivane', 'Guilhermecrepaldi', 'Wender', 'Sara', 'Pillter', 'Biel', 'Deviputri', 'Camiloconcei\\\\xc3\\\\xa7\\\\xc3\\\\xa3o', 'Caiofelipe', 'Ismail', 'Julia', 'Jos\\\\xc3\\\\xa9mauricio', 'Aggelos', 'Rafaela', 'Lucia', 'Marciovinicius', 'Rildo', 'Irm\\\\xc3\\\\xa3odo', 'Phablo', 'Brunoda', 'Higo', 'Geovana', 'Jailsoncerqueiracerqueirade', 'Adrianocardoso', 'Aziu', 'Naldo', 'Ulysses', 'Rafaelboeira', 'Steve', 'Weslei', 'Manasses', 'F\\\\xc4\\\\xb1rat', 'Patrickmoreira', 'Clara', 'Milene', 'Mois\\\\xc3\\\\xa9sj', 'Dapaaz', 'Claudioigoralves', 'Ylloan', 'Cauan', 'Gabrielfernandes', 'Natanael', 'Francisco', 'Roh', 'Ahsanurrehman', 'Tulio', 'K\\\\xc4\\\\xb1yasettin', 'Jandson', 'Sebasti\\\\xc3\\\\xa3o', 'Djorkaeffprim', 'Jhon', 'Muriel', 'S\\\\xc3\\\\xb8h', 'Diogosouza', 'Maur\\\\xc3\\\\xadciorodrigues', 'Arthur', 'Geisson', 'Moisessouza', 'Raphaelbenevidesdos', 'Joel', 'Vhfhgk', 'J\\\\xc3\\\\xa3o', 'Jamison', 'Geanderson', 'Rauan', 'Luizfelipecorrea', 'Aruan', 'Kethelin', 'Viniciusaguiar', 'Felipeabrah\\\\xc3\\\\xa3o', 'Renatode', 'Jhonatan', 'Gabriell', 'Arcanjo', 'Angel', 'Ezequias', 'Cristiam', 'Jeansouza', 'Endrell', 'Achmad', 'Wendelb', 'Deise', 'Renatorongxuan', 'Wallisson', 'Thayner', 'Cesar', 'Edsonsousa', 'Stanley', 'Denisadrian', 'Joandeson', 'Marcoant\\\\xc3\\\\xb4nio', 'Joserenatoferreira', 'Hygor', 'Thiagoo', 'Bhordon', 'Weviton', 'Pedroalvares', 'Paulovictor', 'Teus', 'Romandry', 'Livia', 'Jhosyell', 'Augustynho', 'Lucasribeiro', 'Ighor', 'S\\\\xc3\\\\xa1vio', 'Izirlene', 'Luansouzaviana', 'Beatrizbia', 'L\\\\xc3\\\\xaanic', 'Eduardodasilva', 'Clash', 'Ayukumala', 'Adriel', 'Mikaiaskmonteirode', 'Levi', 'Jucelete', 'Calebe', 'Rodrigodasilva', 'Deivid', 'Jo\\\\xc3\\\\xa3olucas', 'Guilhermegarciada', 'Bielamaral', 'Firmino', 'Paulinho', 'Cristian', 'Josefvitor', 'Danteadr', 'Cyndi', 'Diogofernandes', 'Matheushenrique', 'Wiksonalves', 'Tobiasgilmarkraisch', 'Ildeu', 'Jos\\\\xc3\\\\xa9vinicius', 'Mattheus', 'Juliana', 'Samu', 'Erih', 'Renatoribeiro', 'Rayyi', 'Nanny', 'Wilbert', 'Elisa', 'Marcellogomes', 'Talisson', 'Adriellefilipe', 'Gabrielgomesdos', 'Ruanpablo', 'Sourav', 'Gilmar', 'Jeferson', 'Rudson', 'Graziela', 'Zac', 'Acau\\\\xc3\\\\xa3', 'Davidocarmo', 'Erijhonson', 'Luciana', 'Nicole', 'Mvviiniiciius', 'Hercules', 'Rajput', 'Juancelso', 'Maria', 'Maikemenegatti', 'Lilizinha', 'Jaciano', 'Joaopedro', 'Mariomignanelli', 'Christian', 'C\\\\xc3\\\\xa9sar', 'Rafaelcunha', 'Harry', 'Jota', 'Max', 'Bikramaditya', 'Jenny', 'L\\\\xc3\\\\xab\\\\xc3\\\\xb6n\\\\xc3\\\\xa4rd\\\\xc3\\\\xb6', 'Felipecastro', 'Helliton', 'Adriney', 'Luigi', 'Amanda', 'Guiilherme', 'Zaac', 'Henriquekrolow', 'Felipeda', 'Jo\\\\xc3\\\\xa3ov\\\\xc3\\\\xadctor', 'Vihni', 'Thyago', 'Luuiiz', 'Thailan', 'Marialucia', 'Edvaniadasilvada', 'Fernanda', 'Deniilson', 'Carol', 'Rafhael', 'Fabiojunior', 'Everson', 'J\\\\xc3\\\\xbalia', 'L\\\\xc3\\\\xbck\\\\xc3\\\\xa1\\\\xc3\\\\xa0sp\\\\xc3\\\\xabll\\\\xc3\\\\xabgr\\\\xc3\\\\xafnn\\\\xc3\\\\xab', 'Albert', 'Mc\\\\xc3\\\\xb6\\\\xc3\\\\xb6h', 'Alan', '\\\\xc3\\\\xaeg\\\\xc3\\\\xb6r', 'Made', 'Lenilson', 'Pedroricardo', 'Nanderson', 'Nando', 'Aleksandarpartizanjug', 'Luana', 'Flaviano', 'Xandi', 'Jhonny', 'Dia', 'Valtervila', 'Walkilmer', 'Walter', 'Eduardoluis', 'Dyordsonmachado', 'Hama', 'Polim', 'Jucimara', 'Monikinha', 'Shakal', 'Thamires', 'Elyaquim', 'Brandon', 'Euberte', 'Lucasjesusda', 'Israel', 'Patr\\\\xc3\\\\xadcia', 'Nishi', 'Cleitin', 'Iuryalmeida', 'Victorhugo', 'Giann', 'Muhammad', 'Oliver', 'Marcell', 'Dimaspramudya', 'Cleber', 'Vanessa', 'Ayslan', 'Netinho', 'Menorpaulo', 'Marcoscosta', 'Kelly', 'Uriel', 'Lucca', 'Richardvin\\\\xc3\\\\xadcius', 'Duzao', 'Grasy', 'Marronefons\\\\xc3\\\\xaaca', 'Juniocarlos', 'Nat\\\\xc3\\\\xa1lia', 'Glendaalves', 'Talisonvilla', 'Khaue', 'Wictorsamuelpacheco', 'Angelomarcosdasilva', 'Danielgomespassos', 'Stampix', 'Danielde', 'Pablohenriqueramos', 'Selynak', 'Irlan', 'Abinpecinta', 'Juhh', 'Lucasbr', 'Weslley', 'Milena', 'Riquelme', 'Wendelalves', 'Muka', 'Zoio', 'Cleytonzanchin', 'Felipyaraujo', 'Louren\\\\xc3\\\\xa7orebeloda', 'Gabrielpietro', 'Jeann', 'Andreaugusto', 'L\\\\xc3\\\\xbcccas', 'Rivas', 'Ahmadalif', 'Cesarricardode', 'Wima', 'Gabriela', 'Guilhermeasm', 'Pierre', 'Sino', 'Ega', 'Carloshenrique', 'Aprilla', 'Natanaellopesdacruzlopesda', 'Mario', 'Karolina', 'Anivaldo', 'Jacques', 'Sidneybr', 'Alexandredesouza', 'J\\\\xc3\\\\xb6\\\\xc3\\\\xa4\\\\xc3\\\\xb6', 'Icaro', 'Renatorocha', 'Mayk', 'Andriele', 'Jv', 'Victorguida', 'Manuelly', 'Musadiq', 'Lellyofernandes', 'Alvimar', 'Emir', 'Rafly', 'Alessandru', 'Lopes', 'Robertosousa', 'St\\\\xc3\\\\xa9fane', 'Jonathangarrido', 'Marcosaugusto', 'Carolcarolcarol', 'Jhonathan', 'Prabh', 'Rafaelsouza', 'Ahmad', 'Alfandy', 'Ronak', 'Meliodas', 'Hectororlandoalejo', 'Luansilva', 'Ellen', 'Dennys', 'Nuel', 'Maiara', 'Vn', 'Pedrohenrique', 'Aftar', 'Netto', 'Camila', 'Yagodos', 'Wescleyfeliciano', 'Marlon', 'Thiagoborges', 'Manic', 'Anderson', 'Athyson', 'Lu', 'Naildobortollo', 'Wallam', 'Guto', 'Marcelovilas', 'Dener', 'Khristopher', 'Heberty', 'Wilham', 'Marcello', 'Eliesio', 'Dalvescorrea', 'Andreyfigueiredo', 'Isadora', 'Haramii', 'Dienis', 'Josiel', 'Batatinha', 'Ivanlondres', 'Danielsantos', 'Bareta', 'Ikhsan', 'Ot\\\\xc3\\\\xa1viosilva', 'Kleidsson', 'Deivyd', 'Gilmarcostade', 'Vin\\\\xc3\\\\xadciuscaldo', 'Caiio', 'Vick', 'Alejandro', 'Jo\\\\xc3\\\\xa3oluiz', 'Carloseduardo', 'Joaobatista', 'Miguelantonio', 'Carlosdavid', 'Guh', 'Cato', 'Fernandodomingos', 'Kauanderson', 'Lucasbascelar', 'Henri', 'Tobias', 'Galarza', 'Renando', 'Guilhermecamargo', 'Rairon', 'Lohan', 'Patr\\\\xc3\\\\xadcior', 'Kevinandrade', 'Luanvin\\\\xc3\\\\xadcius', 'Satrioanugra', 'Sd', 'Jos\\\\xc3\\\\xa9osmar', 'Vitinho', 'Viittor', 'Aemylyzyano', 'Fransergio', 'Fred', 'Andreza', 'Mariavit\\\\xc3\\\\xb3ria', 'Edilsonda', 'Erlon', 'Alissonde', 'Ekhwan', 'Marielrodrigues', 'Nayara', 'Rafa', 'Jason', 'Levisantos', 'Sabrina', 'Crystian', 'Gabri\\\\xc3\\\\xa9lsilva', 'Pedrorodrigues', 'Thomas', 'Bernardodeassis', 'Biiel', 'Jo\\\\xc3\\\\xa3omarcelode', 'Edson', 'Aldiney', 'Gabrielda', 'Robson', 'Caiosilva', 'Vanuusa', 'Hiago', 'Juanitodavi', 'Viniciussousa', 'Andersonjos\\\\xc3\\\\xa9mendes', 'Isayas', 'Joana', 'Andr\\\\xc3\\\\xa9da', 'Jn', 'Lucasdeoliveira', 'Eraldo', 'Jo\\\\xc3\\\\xa3ovictoor', 'Jeh', 'Fellipe', 'Laercydouradodoh', 'Isaque', 'Willas', 'Raymisonsaldanha', 'Ant\\\\xc3\\\\xb4nio', 'Michelen', 'Rony', 'J\\\\xc3\\\\xb6\\\\xc3\\\\xabllj\\\\xc3\\\\xabff', 'Flavinhamonteiroflavinha', 'Livinhadazz', 'Omaro', 'Josepaulochaves', 'Andreandrade', 'Matsheusclash', 'Anacarolina', 'Railson', 'Aurilene', 'Laedson', 'Wedersoonordi\\\\xc3\\\\xadn\\\\xc3\\\\xa1r\\\\xc3\\\\xadoos', 'Matheusda', 'Lucaslemede', 'Dioncharles', 'Theus', 'Elivelton', 'Beatriz', 'Duka', 'Davidadriano', 'Paulolima', 'Thaldefelipe', 'Vilanova', 'Jorgewellington', 'Diiogghosousaah', 'Marco', 'Weyder', 'Michelpereirade', 'Yuriih', 'Lucasdrabach', 'Jorgealberto', 'Kelvindouglasdasilva', 'Tallde', 'Mateusames', 'Almir', 'Jheymisow', 'Pastels', 'Jessicarodriguesde', 'Irineude', 'Isac', 'Eduardoswat', 'Kadu', 'Vit\\\\xc3\\\\xb3ria', 'Zz\\\\xc3\\\\xbfnh\\\\xc3\\\\xb6', 'Fabiana', 'Feliphi', 'Ronilson', 'Jales', 'Kenedy', 'Cleidson', 'Erika', 'Joicy', 'Biahh', 'Jonasdo', 'Fernandoguida', 'Lane', 'Michael', 'Orrelikiado', 'Alexsandrodossantos', 'Loghan', 'Hrn', 'Hendryo', 'Elandos', 'St\\\\xc3\\\\xa4\\\\xc3\\\\xb1l\\\\xc3\\\\xabyg\\\\xc3\\\\xa4br\\\\xc3\\\\xaf\\\\xc3\\\\xabl', 'Colemar', 'Mauriciogilbertodeandrade', 'River', 'Samuka', 'Eduardoda', 'Rahmon', 'Erivaldo', 'Jo\\\\xc3\\\\xa3opedrode', 'Rychardaugusto', 'Rardisom', 'Euclidesnetoalmerelis', 'Valdinersantos', 'Bryan', 'Cl\\\\xc3\\\\xa1udionat\\\\xc3\\\\xa3', 'Allanbruno', 'Leonardoreis', 'Ibtissam', 'Iuri', 'Johnson', 'Leonardoalves', 'Jo\\\\xc3\\\\xa3ovittor', 'Mariaclara', 'Edu', 'Manueldomingos', 'Geisy', 'Weneson', 'Vullian', 'Kalel', 'Matheusgomes', 'Anthonemiguelnogueira', 'L\\\\xc3\\\\xab\\\\xc3\\\\xabh', 'Christianemanuel', 'Isabelly', 'Wesleifernando', 'Vitoria', 'Crislane', 'Cl', 'J\\\\xc3\\\\xbanior', 'Maicon', 'Hannifatul', 'Charlightonmaia', 'Enzode', 'Juvenalia', 'Ramonalvesde', 'Priscilasantos', 'Giovana', 'Lany', 'Rafaeljosede', 'Arthurgabrielsilva', 'Douglasdasilvavaz', 'Cillenny', 'Duda', 'Viniciuspdos', 'Thiaguinho', 'Carloshenriquealvarenga', 'Janyhil\\\\xc3\\\\xa1rio', 'Izaque', 'Sundrieleluany', 'Samuelazeredo', 'Henriquerdo', 'Samueljose', 'Yasmim', 'Clauved', 'Mois\\\\xc3\\\\xa9s', 'Euzinho', 'Danialiseth', 'Hudhdhjdjddn', 'Jack', 'Thyagovitor', 'Sam', 'Abakhsh', 'Niefton', 'Axom', 'Lukinha', 'Miguelarcanjo', 'Thalischumbawomba', 'Tarlyson', 'Seijongroman', 'Weuller', 'Ilison', 'Alison', 'Edielma', 'Guiadopor', 'Ronald', 'Rianmlk', 'Wagnerdesouza', 'Flaviacalisto', 'Phatryck', 'Yurimachado', 'Lu\\\\xc3\\\\xa3', 'Kauvem', 'Ailtom', 'Vs', 'Matias', 'Wylliam', '\\\\xc3\\\\xabm\\\\xc3\\\\xab\\\\xc5\\\\xa1\\\\xc3\\\\xaf\\\\xc5\\\\x88h\\\\xc3\\\\xb6', 'Fellipemirandade', 'Trisna', 'Alexis', 'Kanox', 'Silaspereiraoliveirapereira', 'Jhonatanf', 'Luispaulo', 'Andr\\\\xc3\\\\xa9lenda', 'Lucasaraujodo', 'Ewertondasilva', 'Feliperochade', 'Lucasda', 'Witalo', 'Jefersson', 'Muhammadferdy', 'Snaiderbatistaoliveira', 'Mikaelmattoslima', 'Pendi', 'Geraldo', 'Matheuz', 'Renz', 'Plmartins', 'Gabrielgottlieb', 'Pejotta', 'Otaviano', 'Deveid', 'Tauan', 'Rudi', '\\\\xc3\\\\xa1lvaroluiz', 'Kaue', 'Brayahnperuzzode', 'Diegocosta', 'Alle', 'Giovani', 'Junimbaterista', 'Gustavolippe', 'Anthony', 'Raditya', 'Gabrielfabricio', 'Lucasfernandesdos', 'Biieell', 'Halyson', 'Nico', 'Caiode', 'Jaderson', 'Maylon']\n",
      "['Wala', 'Md', 'Imad', 'Jona', 'Franciscojavierram\\\\xc3\\\\xadrez', 'Emmason', 'Swarup', 'Kat', 'Breno', 'Christian', 'Lanzelsmith', 'Laura', 'Clarissa', 'Rahimul', 'Nina', 'Kenneth', 'Zafar', 'Joshua', 'Josemari', 'Johanna', 'Tiffany', 'Zakariael', 'Preston', 'Isra', 'Madeline', 'Lynziey', 'Dougg', 'Timi', 'Tyler', 'Junghoon', 'Anna', 'Yasemin', 'Vivek', 'Angela', 'Isabella', 'Jessica', 'Irene', 'Nick', 'Amanda', 'Karinaa', 'Asha', 'Ley', 'Amit', 'Sammy', 'Jasmine', 'Geovanny', 'Samuel', 'Amyde', 'Van', 'Roanne', '\\\\xc3\\\\xaem\\\\xc3\\\\xa3\\\\xc5\\\\x82k\\\\xc3\\\\xa5', 'Daniel', 'Leila', 'Annah', 'Patrick', 'Alia', 'Aaron', 'Jesus', 'Diana', 'Trudy', 'Seth', 'Katie', 'Taylor', 'Sahana', 'Kyle', 'Kevin', 'Hillary', 'Josafat', 'Jeremy', 'Connor', 'Tanthai', 'Bobby', 'Bertan', 'Esmy', 'Yuvan', 'Jonny', 'Jarad', 'Emily', 'Josh', 'Olivia', 'Joanna', 'Choika', 'Long', 'Longfei', 'Wannan', 'Lucas', 'Noodlebubba', 'Chitwan', 'Thomas', 'Fardeen', 'Shiva', 'Tarung', 'Sonia', 'Michaelallen', 'Danny', 'Chloe', 'Hannah', 'Karthik', 'Luke', 'Michael', 'Kareem', 'Bryan', 'Aishwarya', 'Nikta', 'Amelia', 'Sharon', 'Esmeralda', 'Samantha', 'Kunal', 'Paul', 'Lalo', 'Wenxin', 'Sam', 'Erin', 'Stefanie', 'Frank', 'Ahlim', 'Maria', 'Kassandra', 'Cody', 'Megan', 'Nishtha', 'Parth', 'Shiyi', 'Sharminshannon', 'Vivy', 'Ghattas', 'Helen', 'Brandon', 'Shushan', 'Sydney', 'Ashley', 'Yareli', 'Sehershah', 'Yoori', 'Mayur', 'John', 'Deborha', 'Manj', 'Arif', 'Aidan', 'Earaj', 'Remaree', 'Desi', 'Brenda', 'Stanley', 'Mattywhite', 'Mahinda', 'Joseph', 'Isabel', 'Dian', 'Jason', 'Alican', 'Daniellesujei', 'Jenny', 'Yifan', 'Catherine', 'Elisa', 'Cecile', 'Jaime', 'Macmacsalamanque', 'Clayton', 'Victoria', 'Superb', 'Aslam', 'Daniellede', 'Grace', 'Michelle', 'Dillon', 'Wayne', 'Brianna', 'Justinblake', 'Carter', 'Yangyang', 'Ursula', 'Shelby', 'Arman', 'David', 'Andrea', 'Quang', 'Ernest', 'Nate', 'Sulagna', 'Peter', 'Leah', 'Lydiaromanovna', 'Asif', 'Annie', 'Christopher', 'Dominique', 'Malidu', 'Rohan', 'Lisbethe', 'Kiana', 'Reina', 'Danielle', 'Bee', 'Wendy', 'Sundy', 'Derek', 'Meg', 'Moaz', 'Oyinda', 'Siddiq', 'Almarosa', 'Oluwajuwon', 'Shannee', 'Benjamin', 'Kilaztli', 'Albert', 'Victor', 'Photoghrapar', 'Breanna', 'Natalie', 'Robert', 'Abbas', 'Auradenisseespinoza', 'Stephanie', 'Jennifer', 'Sarah', 'Yunyi', 'Kristanarvasa', 'Ronagene', 'Edward', 'Chaoyi', 'Mop', 'Joonhwa', 'Suveda', 'Hayleyrenee', 'Mohammad', 'Jessie', 'Ariana', 'Amy', 'Berenice', 'Greta', 'Danelle', 'Aneet', 'Aurora', 'Kamrin', 'Seyed', 'Abbey', 'Lourick', 'Simon', 'Luis', 'Anthonytone', 'Amber', 'Sivory', 'Katelyn', 'Jackj', 'Ayoubrami', 'Haldan', 'Lily', 'Leale', 'Bianca', 'Raksha', 'Alexandra', 'Mark', 'Casandra', 'Timothy', 'Gseiji', 'Dustin', 'Cj', 'Gaelen', 'Camryn', 'Jeff', 'Nelson', 'Nicole', 'Tj', 'Jannyda', 'Caleb', 'Brian', 'Aura', 'Rafael', 'Braddy', 'Justin', 'Jordan', 'Marcos', 'Deena', 'Stella', 'Yilan', 'Paige', 'Laurajane', 'Ian', 'Sevgiisabel', 'Aditya', 'Allie', 'Alex', 'Juanita', 'Willian', 'Allison', 'Mohammed', 'Nassir', 'Harrison', 'Bailey', 'Jawadkh', 'Jeffrey', 'Jonathan', 'Juskarun', 'Angelarose', 'Younsooemily', 'Maggie', 'Wenlong', 'Jennie', 'Siyuan', 'Kaviya', 'Patricia', 'Hayk', 'Emma', 'Catie', 'Reece', 'Ricky', 'Aiden', 'Jimmy', 'Spencer', 'William', 'Walker', 'Adilen', 'Jin', 'Elton', 'Shubham', 'Susana', 'Mary', 'Andy', 'Martinhan', 'Cameron', 'Dangerbabury', 'Sara', 'Bella', 'Alonso', 'Chengwei', 'Jacob', 'Becky', 'Anton', 'Mari', 'Brittany', 'Shayleen', 'Yash', 'Zoumana', 'Kipchumba', 'Melissa', 'Valerie', 'Christophere', 'Joselyn', 'Ngoc', 'Heather', 'Dona', 'Alexander', 'Jorel', 'Hyosangken', 'Elliot', 'Gwynethteosue', 'Teju', 'Eric', 'Arpan', 'Gabby', 'Zack', 'Tiana', 'Tracy', 'Alejandro', 'Fengmin', 'Jessicaesmeralda', 'Lyndon', 'Coreyalexander', 'Hanna', 'Ernie', 'Alyssa', 'Chris', 'Nimah', 'Alan', 'Taylorleigh', 'Hutchison', 'Evelyn', 'Julia', 'Alexandria', 'Sophia', 'Rosemary', 'Caroline', 'Betty', 'Edgar', 'Naian', 'Mira', 'Brear', 'Kayla', 'Cooper', 'Ece', 'Teddy', 'Jackiejiachen', 'Francois', 'Selin', 'Eleni', 'Jade', 'Jiachen', 'Ratushtar', 'Joyce', 'Swathi', 'Layla', 'Anupama', 'Sabrina', 'Quoc', 'Cindy', 'Serena', 'Nathan', 'Theo', 'Vincent', 'Zev', 'Roland', 'Efe', 'Calvin', 'Annalise', 'Mariah', 'Max', 'Samira', 'Ritesh', 'Pranav', 'Ellen', 'Nhily', 'Kaise', 'Sanfeng', 'Alfonso', 'Austin', 'Alice', 'Dakota', 'Paulette', 'Phoebe', 'Haroldjasper', 'Devyani', 'Chrisly', 'Ceci', 'Karina', 'Yashes', 'Brent', 'Raghav', 'Aneri', 'Annabelle', 'Kajal', 'Ethan', 'Liam', 'Peiqi', 'Rachel', 'Jeana', 'Brijendra', 'Marlen', 'Pauline', 'Karl', 'Melinda', 'Adarsh', 'Davidalexander', 'Joelle', 'Matthew', 'Mackenzie', 'Galen', 'Andrew', 'Laneyk', 'Molly', 'Keerthipradaa', 'Kirk', 'Alexis', 'Margo', 'Leonard', 'Priya', 'Aryaman', 'Coleen', 'Cynthia', 'Ruta', 'Cecilia', 'Furn', 'Kuhelika', 'Panida', 'Kyron', 'Alicia', 'Nephele', 'Jeevika', 'Nancy', 'Leo', 'Dong', 'Eda', 'Bridget', 'Vialtheaa', 'Kenny', 'Maxwell', 'Terry', 'Demond', 'Kelly', 'Ivan', 'Joeyogurt', 'Iman', 'Madeleine', 'Roz', 'Phillip', 'Monifa', 'Kirande', 'Anil', 'Nafisa', 'Camilla', 'Carrie', 'Sofia', 'Robyn', 'Josie', 'Amir', 'Jordie', 'Carlin', 'Ishvin', 'Audrey', 'Ryan', 'Anika', 'Kathy', 'Erica', 'Jenna', 'Karla', 'Clarence', 'Tobey', 'Rosa', 'Aastha', 'Daphne', 'Shivam', 'Arush', 'Ana', 'Sasha', 'Tejas', 'Gina', 'Niki', 'Baolinh', 'Serene', 'Patrickakira', 'Saachi', 'Jan', 'Cali', 'Elysia', 'Swati', 'Carey', 'Sabina', 'Eleanor', 'Moorea', 'Jackson', 'Jiwoo', 'Anayat', 'Tony', 'Katherine', 'Sheldon', 'Linabelle', 'Pablo', 'Shreya', 'Vivian', 'Priyanka', 'Navi', 'Lauren', 'Vatsal', 'Hailey', 'Sihua', 'Sohil', 'Dan', 'Minh', 'Silas', 'Anant', 'Danielhyuk', 'Mia', 'Nanut', 'Bardia', 'Belinda', 'Leandra', 'Avni', 'Mike', 'Niel', 'Fredrique', 'Tanvi', 'Ivy', 'Malvika', 'Betsy', 'Leina', 'Priscilla', 'Garrett', 'Cari', 'Alysa', 'Marcel', 'Claire', 'Yinmei', 'Steph', 'Henry', 'Millen', 'Mayuri', 'Gwynevere', 'Cory', 'Levana', 'Heerali', 'Rebecca', 'Aadit', 'Liana', 'Kyra', 'Thao', 'Athina', 'Tomas', 'Robin', 'Destiny', 'Kirra', 'Nico', 'Maddie', 'Noelle', 'Mason', 'Jake', 'Quinn', 'Naty', 'Esteban', 'Pr\\\\xc3\\\\xad\\\\xc3\\\\xb1\\\\xc3\\\\xa7\\\\xc3\\\\xa8', 'Lalithwasanthadanu', 'Udari', 'Sampath', 'Hamza', 'Sameera', 'Shiran', 'Pubudu', 'Eranda', 'Dammika', 'Sophie', 'Jos\\\\xc3\\\\xa9neto', 'Sudesh', 'Henrya', 'Abo', 'Ahmad', 'Abderahim', 'Fraini', 'Sandunrukshantha', 'Izhar', 'Manzoor', 'Safi', 'Ishan', 'Moshtaq', 'Arshad', 'Sirleia', 'Ioan', 'Lay', 'Cecilouma', 'Sempatel', 'Walter', 'Mellozde', 'Richard', 'Viraj', 'Victorarita', 'Billy', 'Didin', 'Ilpesce', 'Ortegadecortes', 'Carlos', 'Awss', 'Antoniocarlos', 'Emir', 'Raaz', 'Salih', 'Aron', 'Ricardohernandez', 'Rajkumar', 'Estebandamian', 'Abdsamad', 'Tori', 'Alondra', 'Sang', 'Adarshramesh', 'Mitali', 'Ruby', 'Hazem', 'Karim', 'Anashetryson', 'Rahul', 'Claudia', 'Daria', 'Kaitlyn', 'Puja', 'Johnny', 'Isaacwestbeatz', 'Ashlee', 'Elyshadestiny', 'Macy', 'Omoyemi', 'Edwiniv\\\\xc3\\\\xa1n', 'Ben', 'Hongyu', 'Sean', 'Wilde', 'Idan', 'Adrian', 'Carlie', 'Nilay', 'Freddy', 'Zoe', 'Juliette', 'Zuber', 'Hena', 'Tharunya', 'Leibylaura', 'Omarren\\\\xc3\\\\xa9torres', 'Amin', 'Brett', 'Shweta', 'Randy', 'Sahil', 'Klaus', 'Tania', 'Damilola', 'Maryanne', 'Jesseniaflorez', 'Seema', 'Paulo', 'Klara', 'Salman', 'Kiran', 'Alexa', 'Cassie', 'Xmart', 'Samrat', 'Minseok', 'Sreeja', 'Nusayba', 'Sandra', 'Safa', 'Sandeep', 'Sera', 'Yuanmei', 'Briannale', 'Albertoeffin', 'Brain', 'Adam', 'Stephen', 'Francesca', 'Beccaanne', 'Minny', 'Princess', 'Alison', 'Shirley', 'Nikki', 'Shrey', 'Kaitlynnichole', 'Mohin', 'Ak', 'Mateoortegon', 'Melvin', 'Joedel', 'Briana', 'Jigneshchetvanijignesh', 'Ananya', 'Ally', 'Cod', 'Marco', 'Catrina', 'Cassidy', 'Shyam', 'Mahogany', 'Karan', 'Esli', 'Arielelie', 'Heeyoon', 'Samanthayuki', 'Ross', 'Cornelius', 'Bahar', 'Jashan', 'Dhruva', 'Haley', 'Anish', 'Jamie', 'Yaxin', 'Kiki', 'Kaitlin', 'Thevuni', 'Aakash', 'Lisa', 'Srujana', 'Carolynandrews', 'Yassin', 'Clairek', 'Gregoryt', 'Aslihan', 'Elizabeth', 'Jarred', 'Travis', 'Navya', 'Laurenmarie', 'Karen', 'Diane', 'Haoxiang', 'Chelsea', 'Santos', 'Sangita', 'Gurmeet', 'Hunterboy', 'Wambua', 'Kamal', 'Keith', 'Kristen', 'Sukeerthi', 'Fiha', 'Sipan', 'Manolo', 'Greg', 'Nishant', 'Jorden', 'Ingrid', 'Peiyao', 'Srivats', 'Shelley', 'Rushna', 'Ali', 'Evan', 'Om', 'Daljit', 'Bunty', 'Lincoln', 'Charlesringing', 'Kyliah', 'Mittal', 'Steven', 'Amirovalles', 'Rene', 'Humberto', 'Rashid', 'Joe', 'Anwar', 'Raqia', 'Kennedy', 'Ernurserkan', 'Rachana', 'Julian', 'Luci', 'Johnathan', 'Monica', 'Charlotte', 'Kurlyburbur', 'Alejandra', 'Sachin', 'Darian', 'Drew', 'Haliza', 'Chas', 'Jessicak', 'Wesleyh', 'Morgan', 'Isabelle', 'Gali', 'Bhumi', 'Juhi', 'Mihai', 'Cora', 'Zoey', 'Abdul', 'Cheryl', 'Bryanfabian', 'June', 'Jagmeet', 'Aimy', 'Raymond', 'Anthony', 'Summer', 'Callum', 'Mokshith', 'Harshel', 'Glorimar', 'Alisha', 'Virendra', 'Yasa', 'Muhammad', 'Abigail', 'Phil', 'Tzuhsuan', 'Aman', 'Halli', 'Liqin', 'Juancarlos', 'Bethany', 'Yarong', 'Matt', 'Shawn', 'Umang', 'Delvinluis', 'Adi', 'Leonardo', 'Gunjan', 'Ruddy', 'Carnie', 'Shannon', 'Olanrewaju', 'Zhaohan', 'Akash', 'Gian', 'Taufic', 'Emerson', 'Nicholasgeorgexavier', 'Jackie', 'Misty', 'Giovanna', 'Zakaria', 'Taqi', 'Brandonj', 'Gulrahman', 'Frankie', 'Dominic', 'Zayna', 'Sourya', 'Brendan', 'Sravya', 'Helena', '\\\\xc3\\\\xbct\\\\xc3\\\\xa4llm\\\\xc3\\\\xa4gr\\\\xc3\\\\xabll\\\\xc3\\\\xb6l\\\\xc3\\\\xabl\\\\xc3\\\\xafz', 'Garland', 'Noach', 'Guillermo', 'Kirtan', 'Sheikh', 'Roshni', 'Prashanti', 'Maharkhurram', 'Adebimpe', 'Martin', 'Anirban', 'Seifm', 'Taras', 'Harsh', 'Gabe', 'Arya', 'Treven', 'Maryannebrown', 'Olufemi', 'Colleenflanagan', 'Zachary', 'Hooreya', 'Vishal', 'Lindsey', 'Nharnaephiyahacheamponmaa', 'Zainabc', 'Kimia', 'Rendell', 'Zach', 'Eman', 'Tahirkhan', 'Heman', 'Daksh', 'Rachael', 'Larry', 'Addie', 'Ezzah', 'Marietta', 'Winston', 'Pat', 'Pishoi', 'Harley', 'Giselle', 'Jesse', 'Komal', 'Vick', 'Nyasia', 'Menglong', 'Hasin', 'Alisa', 'Chidiebere', 'Meghan', 'Ammu', 'Pankti', 'Dihana', 'K\\\\xc3\\\\xa9ng', 'Rajanpreet', 'Youngjeen', 'Harryl', 'Haroon', 'Petros', 'Kaila', 'Aarti', 'Iris', 'Bramhanand', 'Michelleandrea', 'Sofiatorres', 'Cass', 'Woobae', 'Gabi', 'Lisbetteansherly', 'Nisha', 'Gio', 'Belis', 'Shikha', 'Ahmed', 'Kaylaeunhee', 'Akila', 'Raahim', 'Jonah', 'Roshan', 'Alam', 'Rizelyn', 'Anvita', 'Sebastian', 'Tara', 'Chanpreet', 'Archana', 'Ck', 'James', 'Abhishek', 'Kemberly', 'Akhila', 'Rinna', 'Melissaann', 'Parker', 'Nikita', 'Salathia', 'Avaniek', 'Waleed', 'Luana', 'Natalia', 'Eliana', 'Krupa', 'Mdhafijurmd', 'Almarmanalo', 'Nupur', 'Kishand', 'Eytan', 'Nathalie', 'Pearl', 'Jack', 'Krista', 'Ashrivera', 'Charles', 'Jay', 'Katelynn', 'Vijay', 'Lvt', 'Yungdolla', 'Neeshil', 'Pratibha', 'Nikhil', 'Ronit', 'Valeriekate', 'Brissa', 'Nisarg', 'Elisabeth', 'Ilya', 'Raphael', 'Dmytro', 'Errol', 'Jen', 'Izabela', 'Angelica', 'Zeb', 'Marisa', 'Reda', 'Riccardo', 'Sayed', 'Chika', 'Sarahannah', 'Sidney', 'Ray', 'Justine', 'Marissa', 'Carlolorenzo', 'Riya', 'Candy', 'Linda', 'Shaily', 'Doreen', 'Nadirah', 'Augustine', 'Avi', 'Rahma', 'Daniyal', 'Shaina', 'Peeranat', 'Zali', 'Fadjy', 'Bina', 'Bernard', 'Aprildawn', 'Sambavi', 'Jevon', 'Irakli', 'Sweta', 'Aj', 'Gayle', 'Tahir', 'Mo', 'Rose', 'Kristin', 'Rushil', 'Nadimel', 'Maya', 'Olga', 'Luisdiego', 'Scarrison', 'Mikiola', 'Dgdhfhf', 'Ravi', 'Jess', 'Colin', 'Aayushi', 'Sorina', 'Duc', 'Kaylee', 'Hochan', 'Gaurav', 'Pitika', 'Jim', 'Devinj', 'Juheon', 'Oscar', 'Shadidur', 'Zaid', 'Dylan', 'Debbie', 'Areej', 'Fatimah', 'Kayleigh', 'Juan', 'Abby', 'Patrickding', 'Madhir', 'Sarena', 'Agnes', 'Neil', 'Hari', 'Shane', 'Farah', 'Zo\\\\xc3\\\\xab', 'Vishaal', 'Asl\\\\xc4\\\\xb1', 'Orren', 'Shuting', 'Aylin', 'Georgia', 'Tiger', 'Eunice', 'Johanis', 'Keya', 'Sukrut', 'Gabriel', 'Mauricio', 'Krisha', 'Miehawa', 'Shivum', 'Pooja', 'Arthur', 'Tom', 'Caitlin', 'Alonzo', 'Mattaaron', 'C\\\\xc3\\\\xa9line', 'Nahid', 'Mariam', 'Akram', 'Kyrollos', 'Mohab', 'Gerard', 'Pd', 'Humayoon', 'Krishna', 'Ariel', 'Alyssadi', 'Anhiella', 'Jillian', 'Gabbi', 'Syed', 'Trevor', 'Hanny', 'Shashwat', 'Andrewkyochang', 'Naomi', 'Aaditya', 'Rachelt', 'Gloria', 'Arynn', 'Shad', 'Jyasmin', 'Autumn', 'Harika', 'Rohith', 'Nikesh', 'Miranda', 'Zahra', 'Jacquelyn', 'Will', 'Saif', 'Vismita', 'Anuva', 'Robertmichael', 'Anik', 'Bakerman', 'Varthika', 'Moira', 'Rohittom', 'Luca', 'Sunil', 'Prashasti', 'Iraida', 'Rafal', 'Peri', 'Kimberly', 'Jacobmonday', 'Liza', 'Mckenna', 'Wassey', 'Akshat', 'Huiyong', 'Holli', 'Shivani', 'Osereme', 'Courtney', 'Yuki', 'Manpreetmeenu', 'Amb', 'Christle', 'Dishant', 'Theresa', 'Leeana', 'Thomasrocco', 'Lakhini', 'Yayne', 'Riddhi', 'Casey', 'Marcela', 'Khush', 'Ellie', 'Papayaw', 'Sumer', 'Darshee', 'Christina', 'Imran', 'Kinal', 'Preeti', 'Micayla', 'Shayna', 'Lada', 'Sapna', 'Raamish', 'Lawrence', 'Reuben', 'Iriane', 'Simran', 'Nish', 'Hsinyo', 'Tanya', 'Nara', 'Ricahg', 'Joshuastalsworth', 'Christine', 'Kiersten', 'Hina', 'Maigen', 'Sanika', 'Raquel', 'Margaret', 'Brittanyla', 'Devin', 'Ripderrick', 'Megha', 'Michaela', 'Larissa', 'Amani', 'Tehmim', 'Andria', 'Eline', 'Darya', 'Kevinj', 'Rica', 'Ehmghy', 'Marie', 'Canitaf', 'Kanchi', 'Nicholas', 'Marikit', 'Kaye', 'Lauryn', 'Laraub', 'Ludwig', 'Daniels', 'Chen', 'Gianna', 'Faith', 'Hersh', 'Dina', 'Jaclyn', 'Nicolascn', 'Valerierose', 'Donovan', 'Akanksha', 'Nour', 'Raunak', 'Jill', 'Daryll', 'Gabriella', 'Sebasti\\\\xc3\\\\xa3o', 'Thamindu', 'Youssef', 'Rocky', 'Sharwan\\\\xc3\\\\xb1', 'As', 'Matheusdo', 'Rox', 'Arvind', 'Kong', 'Frederick', 'Baiatulcolorcolor', 'Ionut', 'Samir', 'Shriya', 'Mihir', 'Barbara', 'Alvin', 'Vut', 'Ilana', 'Valeria', 'Setha', 'Juancarloscastillo', 'Divya', 'Smriti', 'Hala', 'Grant', 'Tamar', 'Suriya', 'Maira', 'Akosua', 'Emanuela', 'Kyawmoe', 'Pange', 'Josepeke\\\\xc3\\\\xb1oarauz', 'Charlie', 'Cian', 'Ilir', 'Kara', 'Keri', 'Sumedha', 'Rewizz', 'Adanramirez', 'Chand', 'Tiberius', 'Joachim', 'Luisjos\\\\xc3\\\\xa9', 'Saad', 'Dandre', 'Himanshu', 'Rosimeirede', 'Yeussef', 'Vanesa', '\\\\xc4\\\\xb7ha', 'Fili', 'Mosta', 'Junior', 'Drrahish', 'Earl', 'Raimundononato', 'Dhady', 'Naeem', 'Nor', 'Rana', 'Albertocorona', 'Diiogo', 'Nyjon', 'Lordwick', 'Carolyn', 'Ferleeel', 'Leahnichole', 'Taniya', 'Brandonalexander', 'Ernestocano', 'Hugoflores', 'Sitinorbaya', 'Joseg', 'Jocelyn', 'Tina', 'Shmuel', 'S\\\\xc3\\\\xbc\\\\xc3\\\\xb1\\\\xc3\\\\xael', 'Lautaro', 'Driss', 'Wainaina', 'Aldeano', 'Rycko', 'Dolly', 'Sahara', 'Elan', 'Bjunior', 'Javier', 'Fernando', 'Jos\\\\xc3\\\\xa9jeremiasd\\\\xc3\\\\xadaz', 'Alisson', 'Angeli', 'Philip', 'Dhon', 'Murtda', 'Vinicius', 'Kaushal', 'Eli', 'Matty', 'Dakiru', 'Antoniodela', 'Vinny', 'Yea', 'Pawel', 'Elijah', 'Georgec', 'Gavin', 'Hershil', 'Sal', 'Ashish', 'Urav', 'Pinky', 'Anchal', 'Cooperjames', 'Landi', 'Emirjohndonaldson', 'Kelsey', 'Moe', 'Owen', 'Michelejane', 'Roxy', 'Cole', 'Jabulani', 'Guadalupe', 'Aliyyah', 'Nery', 'Dominick', 'Mina', 'Apou', 'Hugo', 'Erik', 'Omar', 'Mac', 'Rohin', 'Faisal', 'Prayag', 'Crystal', 'Nana', 'Parsa', 'Hyder', 'Winnie', 'Richie', 'Danna', 'Viktor', 'Ayush', 'Aisha', 'Adrielle', 'Artur', 'Samip', 'Alli', 'Brendon', 'Breannagirf', 'Ajay', 'Arielle', 'Bohdan', 'Anmol', 'Geet', 'Damien', 'Sani', 'Neeket', 'Santiago', 'Mena', 'Elijoseph', 'Ahsen', 'Liz', 'Stephanieelizabeth', 'Nahyra', 'Miguel', 'Audra', 'Yender', 'Imaduddin', 'Vaanchith', 'Noura', 'Oshain', 'Jasper', 'Kellyann', 'Marilyn', 'Zohair', 'Anthonycoppola', 'Karn', 'Leilaw', 'Clinton', 'Rasel', 'Emilyrose', 'Shreeya', 'Justusluke', 'Dave', 'Illirik', 'Hayley', 'Sania', 'Joey', 'Ashlynn', 'Livia', 'Aliceyufei', 'Eddie', 'Chandlar', 'Hunter', 'Erich', 'Veronica', 'Ewen', 'Blake', 'Mallory', 'Rebecka', 'Tochi', 'Aryana', 'Moodjabir', 'Marjie', 'Subreen', 'Emmali', 'Dawn', 'Nellie', 'Husam', 'Anamaria', 'Haylee', 'Raine', 'Arnobsaha', 'Archit', 'Kavir', 'Tailong', 'Sia', 'Maddy', 'Marylandis', 'Emmie', 'Camille', 'Jared', 'Kalin', 'Jamison', 'Kaushik', 'Jintao', 'Sp', 'Tucker', 'Benhalilem', 'Franktillman', 'Yaa', 'Selena', 'Hirenh', 'Acm', 'Lati', 'Beatrice', 'Elenatoms', 'Leslie', 'Rishi', 'Conner', 'Julie', 'Wanying', 'Peyton', 'Shaynamarie', 'Sifron', 'Gerald', 'Brandonlee', 'Apoorva', 'Loyal', 'Cindytyson', 'Devon', 'Swetha', 'Yujie', 'Dwight', 'Carolina', 'Lee', 'Kuanfu', 'Christieprindle', 'Hallie', 'Chadwick', 'Gerry', 'Laurencedale', 'Clifton', 'Whitney', 'Elliott', 'Adelineelise', 'Nguy\\\\xe1\\\\xbb\\\\x85nng\\\\xe1\\\\xbb\\\\x8dc', 'Shirleyanne', 'Doga', 'Carson', 'Khatira', 'Rosie', 'Te', 'Jane', 'Rodney', 'Xavi', 'Charlanna', 'Duncan', 'Kaity', 'Tanner', 'Damian', 'Griffin', 'Ting', 'Olesia', 'Wesleysimmons', 'Vedang', 'Heatheranne', 'Netra', 'Kathryn', 'Taylormassee', 'Gregory', 'Anushkaa', 'Kethan', 'Darby', 'Sterling', 'Tr\\\\xc6\\\\xb0\\\\xc6\\\\xa1ngminh', 'Bea', 'Assem', 'Emilyyujean', 'Berthadodel', 'Tylor', 'Kendall', 'Sabah']\n",
      "[ -7.48880848e-04   1.86553714e-03   2.37931890e-04   3.13374586e-03\n",
      "  -2.35320348e-03   1.65950623e-03  -5.62950212e-04  -1.16571136e-04\n",
      "  -1.31663994e-03  -8.66025861e-04   1.50236790e-03  -2.09952216e-03\n",
      "   2.48827413e-03   1.22774555e-03   8.85833520e-04  -2.97412951e-03\n",
      "  -3.27181583e-03  -2.17801798e-03  -1.69175153e-03   2.53842142e-03\n",
      "   1.07310701e-03  -4.64476325e-04   2.22654827e-03  -6.00006024e-04\n",
      "  -2.99488835e-04   2.52244971e-03   2.24447623e-03  -1.42191933e-03\n",
      "  -3.01764649e-03  -2.13572965e-03  -1.28148834e-03  -1.07536325e-03\n",
      "  -2.82421522e-03  -3.05297598e-03   6.42283645e-04   6.17990969e-04\n",
      "   4.56754555e-04   2.18722038e-03   2.43999879e-04   2.45731161e-03\n",
      "  -2.82274862e-03  -3.05172522e-03   2.42149970e-03  -2.96943518e-03\n",
      "  -1.94493379e-03   2.12247157e-03   9.43359511e-04   2.61730026e-03\n",
      "   1.84830779e-03  -1.54779133e-04   3.30847432e-03   2.89938238e-04\n",
      "  -6.19312283e-04  -2.14335253e-03  -1.29302614e-03   2.16238759e-03\n",
      "   1.17323163e-03   8.63096830e-06   3.78839439e-04  -2.71515409e-03\n",
      "   7.69480481e-04  -8.47068150e-04   2.64283363e-03   3.23528284e-03\n",
      "  -7.41191499e-04   2.54516560e-03  -1.00934274e-04  -2.87570385e-03\n",
      "  -1.57150405e-03   1.11246947e-04  -1.08875684e-03   2.15751003e-03\n",
      "   1.54525437e-03  -3.07471491e-03   1.14912831e-03  -3.03885015e-03\n",
      "  -4.31581657e-06  -2.39102938e-03   3.97219264e-04   2.83667614e-04\n",
      "   4.85098484e-04   7.55790970e-04  -1.22523552e-03  -8.80487438e-04\n",
      "  -1.58767356e-03  -1.73497375e-03  -1.44824665e-03   3.65977176e-04\n",
      "   1.89585693e-03  -1.67736923e-03  -3.00481473e-03   1.67378492e-03\n",
      "   1.36303622e-03  -3.28201335e-03  -2.33354233e-03   1.64851313e-03\n",
      "   2.60384148e-03  -3.05789826e-03  -3.95529903e-04   1.25259021e-03\n",
      "   1.49467948e-03   1.57576380e-03   1.37853029e-03   6.52375980e-04\n",
      "   1.45944918e-03  -2.32282118e-03   6.91674766e-04  -3.11802258e-03\n",
      "   1.09599240e-03   1.06619194e-03  -9.43705381e-04   2.27084500e-03\n",
      "   1.31805416e-03   2.46770447e-03   2.44177383e-04  -1.18442310e-03\n",
      "  -1.42331549e-03  -7.49498548e-04  -2.13660835e-03  -2.57972162e-03\n",
      "  -9.02164320e-04   1.64156768e-03   2.57916749e-03   2.04777671e-03\n",
      "  -2.86395010e-03  -2.62782443e-03   1.49949035e-03   1.27781392e-03\n",
      "   1.51068484e-03  -3.20635433e-03  -2.19797529e-03   2.32714065e-03\n",
      "  -2.50933226e-03  -1.38050294e-03  -3.96869378e-04  -5.62509289e-04\n",
      "   3.05854855e-03   1.14330743e-03  -6.82076323e-04  -2.59765703e-03\n",
      "  -3.15460516e-03  -8.90342999e-05   3.29815131e-03  -1.14682526e-03\n",
      "  -2.80565885e-03   2.80946866e-03  -2.93888501e-03  -1.10826420e-03\n",
      "  -2.60561705e-03   1.72002346e-03]\n"
     ]
    },
    {
     "name": "stderr",
     "output_type": "stream",
     "text": [
      "/Users/apple1/anaconda/lib/python3.6/site-packages/ipykernel_launcher.py:5: DeprecationWarning: Call to deprecated `__getitem__` (Method will be removed in 4.0.0, use self.wv.__getitem__() instead).\n",
      "  \"\"\"\n"
     ]
    }
   ],
   "source": [
    "words1 = list(model1.wv.vocab)\n",
    "words2 = list(model2.wv.vocab)\n",
    "print(words1)\n",
    "print(words2)\n",
    "print(model['Rafael'])"
   ]
  },
  {
   "cell_type": "code",
   "execution_count": null,
   "metadata": {},
   "outputs": [],
   "source": [
    "#visualize word\n",
    "\n",
    "X1 = model1[model1.wv.vocab]\n",
    "pca = PCA(n_components=2)\n",
    "result1 = pca.fit_transform(X1)\n",
    "\n",
    "X2 = model2[model2.wv.vocab]\n",
    "pca = PCA(n_components=2)\n",
    "result2 = pca.fit_transform(X2)\n",
    "\n",
    "#plt.scatter(result1[:, 0], result1[:, 1], color = 'g')\n",
    "# for i in range(0,5):\n",
    "#     plt.scatter(result[i, 0], result[i, 1], color = 'g')\n",
    "# for i in range(5,10):\n",
    "#     plt.scatter(result[i, 0], result[i, 1], color = 'b')\n",
    "plt.scatter(result2[:, 0], result2[:, 1], color = 'b') \n",
    "\n",
    "# words1 = list(model1.wv.vocab)\n",
    "# words2 = list(model2.wv.vocab)\n",
    "# for i, word1 in enumerate(words1):\n",
    "#     plt.annotate(word1, xy=(result1[i, 0], result1[i, 1]))\n",
    "# for i, word2 in enumerate(words2):\n",
    "#     plt.annotate(word2, xy=(result2[i, 0], result2[i, 1]))\n",
    "\n",
    "plt.show()"
   ]
  }
 ],
 "metadata": {
  "kernelspec": {
   "display_name": "Python 3",
   "language": "python",
   "name": "python3"
  },
  "language_info": {
   "codemirror_mode": {
    "name": "ipython",
    "version": 3
   },
   "file_extension": ".py",
   "mimetype": "text/x-python",
   "name": "python",
   "nbconvert_exporter": "python",
   "pygments_lexer": "ipython3",
   "version": "3.6.1"
  }
 },
 "nbformat": 4,
 "nbformat_minor": 2
}
