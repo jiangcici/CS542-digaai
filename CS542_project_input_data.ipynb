{
 "cells": [
  {
   "cell_type": "code",
   "execution_count": 2,
   "metadata": {},
   "outputs": [
    {
     "name": "stdout",
     "output_type": "stream",
     "text": [
      "Tested with:\n",
      "Python 3.6.5 |Anaconda, Inc.| (default, Apr 26 2018, 08:42:37) \n",
      "[GCC 4.2.1 Compatible Clang 4.0.1 (tags/RELEASE_401/final)]\n",
      "{'numpy': '1.14.3', 'matplotlib': '2.2.2'}\n"
     ]
    }
   ],
   "source": [
    "import sys\n",
    "import numpy as np\n",
    "import matplotlib\n",
    "import matplotlib.pyplot as plt\n",
    "import csv\n",
    "print('Tested with:')\n",
    "print('Python', sys.version)\n",
    "print({x.__name__: x.__version__ for x in [np, matplotlib]})"
   ]
  },
  {
   "cell_type": "code",
   "execution_count": 13,
   "metadata": {},
   "outputs": [
    {
     "name": "stdout",
     "output_type": "stream",
     "text": [
      "2 rafael geraldo 1\n"
     ]
    }
   ],
   "source": [
    "def read_classification_csv_data(fn):\n",
    "    with open(fn) as csvfile:\n",
    "        readCSV = csv.reader(csvfile, delimiter=',')\n",
    "        ID_ = []\n",
    "        First_n_ = []\n",
    "        Last_n_ = []\n",
    "        Is_Br_ = []\n",
    "        count = 0\n",
    "        for row in readCSV:\n",
    "            #print(row)\n",
    "            #print(row[0], row[1], row[2], row[3])\n",
    "            # skips row 0 (column titles)\n",
    "            if (count != 0):\n",
    "                ID = row[0]\n",
    "                First_n = row[1].lower()\n",
    "                Last_n = row[2].lower()\n",
    "                Is_Br = row[3]\n",
    "\n",
    "                ID_.append(ID)\n",
    "                First_n_ .append(First_n)\n",
    "                Last_n_ .append(Last_n)\n",
    "                Is_Br_.append(Is_Br)\n",
    "                \n",
    "            count += 1\n",
    "    return ID_, First_n_, Last_n_, Is_Br_\n",
    "\n",
    "ID, First_name, Last_name, Is_Br = read_classification_csv_data('data/train.csv')\n",
    "print(ID[2], First_name[2], Last_name[2], Is_Br[2])"
   ]
  },
  {
   "cell_type": "code",
   "execution_count": null,
   "metadata": {},
   "outputs": [],
   "source": []
  }
 ],
 "metadata": {
  "kernelspec": {
   "display_name": "Python 3",
   "language": "python",
   "name": "python3"
  },
  "language_info": {
   "codemirror_mode": {
    "name": "ipython",
    "version": 3
   },
   "file_extension": ".py",
   "mimetype": "text/x-python",
   "name": "python",
   "nbconvert_exporter": "python",
   "pygments_lexer": "ipython3",
   "version": "3.6.5"
  }
 },
 "nbformat": 4,
 "nbformat_minor": 2
}
