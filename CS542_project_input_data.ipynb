{
 "cells": [
  {
   "cell_type": "code",
   "execution_count": 26,
   "metadata": {},
   "outputs": [
    {
     "name": "stdout",
     "output_type": "stream",
     "text": [
      "Tested with:\n",
      "Python 3.6.1 |Anaconda custom (x86_64)| (default, May 11 2017, 13:04:09) \n",
      "[GCC 4.2.1 Compatible Apple LLVM 6.0 (clang-600.0.57)]\n",
      "{'numpy': '1.12.1', 'matplotlib': '3.0.0'}\n"
     ]
    }
   ],
   "source": [
    "import sys\n",
    "import numpy as np\n",
    "import matplotlib\n",
    "import matplotlib.pyplot as plt\n",
    "import csv\n",
    "print('Tested with:')\n",
    "print('Python', sys.version)\n",
    "print({x.__name__: x.__version__ for x in [np, matplotlib]})"
   ]
  },
  {
   "cell_type": "code",
   "execution_count": 41,
   "metadata": {},
   "outputs": [
    {
     "name": "stdout",
     "output_type": "stream",
     "text": [
      "1 Gustavo Gon\\xc3\\xa7alves 1\n"
     ]
    }
   ],
   "source": [
    "def read_classification_csv_data(fn):\n",
    "    with open(fn) as csvfile:\n",
    "        readCSV = csv.reader(csvfile, delimiter=',')\n",
    "        ID_ = []\n",
    "        First_n_ = []\n",
    "        Last_n_ = []\n",
    "        Is_Br_ = []\n",
    "        for row in readCSV:\n",
    "            #print(row)\n",
    "            #print(row[0], row[1], row[2], row[3])\n",
    "            ID = row[0]\n",
    "            First_n = row[1]\n",
    "            Last_n = row[2]\n",
    "            Is_Br = row[3]\n",
    "            \n",
    "            ID_.append(ID)\n",
    "            First_n_ .append(First_n)\n",
    "            Last_n_ .append(Last_n)\n",
    "            Is_Br_.append(Is_Br)\n",
    "    return ID_, First_n_, Last_n_, Is_Br_\n",
    "\n",
    "ID, First_name, Last_name, Is_Br = read_classification_csv_data('/Users/apple1/Desktop/project542/all/train.txt')\n",
    "print(ID[2], First_name[2], Last_name[2], Is_Br[2])"
   ]
  }
 ],
 "metadata": {
  "kernelspec": {
   "display_name": "Python 3",
   "language": "python",
   "name": "python3"
  },
  "language_info": {
   "codemirror_mode": {
    "name": "ipython",
    "version": 3
   },
   "file_extension": ".py",
   "mimetype": "text/x-python",
   "name": "python",
   "nbconvert_exporter": "python",
   "pygments_lexer": "ipython3",
   "version": "3.6.1"
  }
 },
 "nbformat": 4,
 "nbformat_minor": 2
}
