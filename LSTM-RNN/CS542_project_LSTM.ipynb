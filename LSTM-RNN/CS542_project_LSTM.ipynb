{
 "cells": [
  {
   "cell_type": "code",
   "execution_count": null,
   "metadata": {},
   "outputs": [],
   "source": [
    "from __future__ import print_function\n",
    "\n",
    "from sklearn.preprocessing import OneHotEncoder\n",
    "from keras.layers.core import Dense, Activation, Dropout\n",
    "from keras.preprocessing import sequence\n",
    "from keras.models import Sequential\n",
    "from keras.layers import Dense, Embedding\n",
    "from keras.layers import LSTM, Merge\n",
    "from keras.datasets import imdb\n",
    "import pandas as pd\n",
    "import numpy as np\n",
    "import os"
   ]
  },
  {
   "cell_type": "code",
   "execution_count": null,
   "metadata": {
    "collapsed": true
   },
   "outputs": [],
   "source": [
    "#parameters\n",
    "maxlen = 30\n",
    "labels = 2"
   ]
  },
  {
   "cell_type": "code",
   "execution_count": null,
   "metadata": {
    "collapsed": true
   },
   "outputs": [],
   "source": [
    "input = pd.read_csv(\"/Users/apple1/Desktop/project542/all/train.csv\")\n",
    "input.columns = ['first', 'last','b_or_n']\n",
    "\n",
    "# remove encode \n",
    "input['first'] = input['first'].str[2:-1]\n",
    "input['last'] = input['last'].str[2:-1]\n",
    "\n",
    "input['firstlen']= [len(str(i)) for i in input['first']]\n",
    "input['lastlen'] = [len(str(i)) for i in input['last']]\n",
    "input1 = input[(input['firstlen'] >= 2) & (input['lastlen'] >= 2)]"
   ]
  },
  {
   "cell_type": "code",
   "execution_count": null,
   "metadata": {
    "collapsed": true
   },
   "outputs": [],
   "source": [
    "firsts = input['first']\n",
    "lasts = input['last']\n",
    "labels = input['b_or_n']\n",
    "\n",
    "vocab = set(' '.join([str(i) for i in firsts]))\n",
    "vocab = set(' '.join([str(i) for i in lasts]))\n",
    "\n",
    "vocab.add('END')\n",
    "len_vocab = len(vocab)"
   ]
  },
  {
   "cell_type": "code",
   "execution_count": null,
   "metadata": {
    "collapsed": true
   },
   "outputs": [],
   "source": [
    "char_index = dict((c, i) for i, c in enumerate(vocab))"
   ]
  },
  {
   "cell_type": "code",
   "execution_count": null,
   "metadata": {
    "collapsed": true
   },
   "outputs": [],
   "source": [
    "#train test split \n",
    "msk = np.random.rand(len(input1)) < 0.8\n",
    "\n",
    "train = input1[msk]\n",
    "test = input1[~msk]"
   ]
  },
  {
   "cell_type": "code",
   "execution_count": null,
   "metadata": {
    "collapsed": true
   },
   "outputs": [],
   "source": [
    "def set_flag(i):\n",
    "    tmp = np.zeros(39);\n",
    "    tmp[i] = 1\n",
    "    return(tmp)"
   ]
  },
  {
   "cell_type": "code",
   "execution_count": null,
   "metadata": {
    "collapsed": true
   },
   "outputs": [],
   "source": [
    "# Truncating and padding training data\n",
    "train_X = []\n",
    "train_Y = []\n",
    "train_Z = []\n",
    "\n",
    "trunc_train_first = [str(i)[0:maxlen] for i in train['first']]\n",
    "trunc_train_last = [str(i)[0:maxlen] for i in train['last']]\n",
    "\n",
    "for i in trunc_train_first:\n",
    "    tmp = [set_flag(char_index[j]) for j in str(i)]\n",
    "    for k in range(0,maxlen - len(str(i))):\n",
    "        tmp.append(set_flag(char_index[\"END\"]))\n",
    "    train_X.append(tmp)\n",
    "\n",
    "for i in trunc_train_last:\n",
    "    tmp = [set_flag(char_index[j]) for j in str(i)]\n",
    "    for k in range(0,maxlen - len(str(i))):\n",
    "        tmp.append(set_flag(char_index[\"END\"]))\n",
    "    train_Y.append(tmp)\n",
    "    \n",
    "for i in train['b_or_n']:\n",
    "    if i == 1:\n",
    "        train_Z.append([1,0])\n",
    "    else:\n",
    "        train_Z.append([0,1])\n"
   ]
  },
  {
   "cell_type": "code",
   "execution_count": null,
   "metadata": {},
   "outputs": [],
   "source": [
    "print(train_X[1])"
   ]
  },
  {
   "cell_type": "code",
   "execution_count": null,
   "metadata": {},
   "outputs": [],
   "source": [
    "np.asarray(train_X).shape"
   ]
  },
  {
   "cell_type": "code",
   "execution_count": null,
   "metadata": {},
   "outputs": [],
   "source": [
    "np.asarray(train_Y).shape"
   ]
  },
  {
   "cell_type": "code",
   "execution_count": null,
   "metadata": {},
   "outputs": [],
   "source": [
    "np.asarray(train_Z).shape"
   ]
  },
  {
   "cell_type": "code",
   "execution_count": null,
   "metadata": {},
   "outputs": [],
   "source": [
    "#build the model: 2 stacked LSTM\n",
    "print('Building LSTM model')\n",
    "\n",
    "left_branch = Sequential()\n",
    "left_branch.add(LSTM(512, return_sequences=True, input_shape=(maxlen,len_vocab)))\n",
    "right_branch = Sequential()\n",
    "right_branch.add(LSTM(512, return_sequences=True, input_shape=(maxlen,len_vocab)))\n",
    "\n",
    "model = Sequential()\n",
    "model.add(Merge([left_branch, right_branch], mode='concat'))\n",
    "model.add(Dropout(0.2))\n",
    "model.add(LSTM(512, return_sequences=False))\n",
    "model.add(Dropout(0.2))\n",
    "model.add(Dense(2))\n",
    "\n",
    "# Softmax activation function\n",
    "model.add(Activation('softmax'))\n",
    "\n",
    "# Cross-entropy loss, metric is accuracy\n",
    "model.compile(loss='categorical_crossentropy', optimizer='adam',metrics=['accuracy'])"
   ]
  },
  {
   "cell_type": "code",
   "execution_count": null,
   "metadata": {
    "collapsed": true
   },
   "outputs": [],
   "source": [
    "# Truncating and padding test data\n",
    "\n",
    "test_X = []\n",
    "test_Y = []\n",
    "test_Z = []\n",
    "\n",
    "trunc_test_first = [str(i)[0:maxlen] for i in test['first']]\n",
    "trunc_test_last = [str(i)[0:maxlen] for i in test['last']]\n",
    "\n",
    "for i in trunc_test_first:\n",
    "    tmp = [set_flag(char_index[j]) for j in str(i)]\n",
    "    for k in range(0,maxlen - len(str(i))):\n",
    "        tmp.append(set_flag(char_index[\"END\"]))\n",
    "    test_X.append(tmp)\n",
    "\n",
    "for i in trunc_test_last:\n",
    "    tmp = [set_flag(char_index[j]) for j in str(i)]\n",
    "    for k in range(0,maxlen - len(str(i))):\n",
    "        tmp.append(set_flag(char_index[\"END\"]))\n",
    "    test_Y.append(tmp)\n",
    "    \n",
    "for i in test['b_or_n']:\n",
    "    if i == 1:\n",
    "        test_Z.append([1,0])\n",
    "    else:\n",
    "        test_Z.append([0,1])"
   ]
  },
  {
   "cell_type": "code",
   "execution_count": null,
   "metadata": {},
   "outputs": [],
   "source": [
    "print(np.asarray(test_X).shape)\n",
    "print(np.asarray(test_Y).shape)\n",
    "print(np.asarray(test_Z).shape)"
   ]
  },
  {
   "cell_type": "code",
   "execution_count": null,
   "metadata": {},
   "outputs": [],
   "source": [
    "batch_size = 1000\n",
    "model.fit([np.asarray(train_X), np.asarray(train_Y)], train_Z, batch_size=batch_size, nb_epoch=50, validation_data=([np.asarray(test_X), np.asarray(test_Y)], test_Z))"
   ]
  },
  {
   "cell_type": "code",
   "execution_count": null,
   "metadata": {
    "collapsed": true
   },
   "outputs": [],
   "source": [
    "score, acc = model.evaluate([np.asarray(test_X), np.asarray(test_Y)], test_Z)\n",
    "print('Test score:', score)\n",
    "print('Test accuracy:', acc)"
   ]
  },
  {
   "cell_type": "code",
   "execution_count": null,
   "metadata": {
    "collapsed": true
   },
   "outputs": [],
   "source": [
    "#save our model and data\n",
    "model.save_weights('model', overwrite=True)\n",
    "train.to_csv(\"train_split.csv\")\n",
    "test.to_csv(\"test_split.csv\")"
   ]
  },
  {
   "cell_type": "code",
   "execution_count": null,
   "metadata": {
    "collapsed": true
   },
   "outputs": [],
   "source": [
    "evals = model.predict([np.asarray(test_X), np.asarray(test_Y)])\n",
    "prob_m = [i[0] for i in evals]"
   ]
  },
  {
   "cell_type": "code",
   "execution_count": null,
   "metadata": {
    "collapsed": true
   },
   "outputs": [],
   "source": [
    "out = pd.DataFrame(prob_m)\n",
    "out['first'] = test['first'].reset_index()['first']\n",
    "out['last'] = test['last'].reset_index()['last']\n",
    "out['b_or_n'] = test['b_or_n'].reset_index()['b_or_n']"
   ]
  },
  {
   "cell_type": "code",
   "execution_count": null,
   "metadata": {
    "collapsed": true
   },
   "outputs": [],
   "source": [
    "out.head(10)\n",
    "out.columns = ['prob_b','first', 'last', 'actual']\n",
    "out.head(10)\n",
    "out.to_csv(\"pred_out.csv\")"
   ]
  },
  {
   "cell_type": "code",
   "execution_count": null,
   "metadata": {
    "collapsed": true
   },
   "outputs": [],
   "source": [
    "# small test. first 3 names are spanish and last 3 names are Brazilian \n",
    "first = [\"manuel\",\"luis\",\"ezequil\",\"michel\",\"luiz\",\"alvaro\"]\n",
    "last = [\"garcia\",\"sanchez\",\"gomez\",\"caetano\",\"guilherme\",\"lime\"]\n",
    "X = []\n",
    "Y = []\n",
    "trunc_first = [i[0:maxlen] for i in first]\n",
    "trunc_last = [i[0:maxlen] for i in last]\n",
    "for i in trunc_first:\n",
    "    tmp = [set_flag(char_index[j]) for j in str(i)]\n",
    "    for k in range(0,maxlen - len(str(i))):\n",
    "        tmp.append(set_flag(char_index[\"END\"]))\n",
    "    X.append(tmp)\n",
    "for i in trunc_last:\n",
    "    tmp = [set_flag(char_index[j]) for j in str(i)]\n",
    "    for k in range(0,maxlen - len(str(i))):\n",
    "        tmp.append(set_flag(char_index[\"END\"]))\n",
    "    Y.append(tmp)\n",
    "    \n",
    "pred = model.predict([np.asarray(X), np.asarray(Y)])\n",
    "pred"
   ]
  }
 ],
 "metadata": {
  "kernelspec": {
   "display_name": "Python 3",
   "language": "python",
   "name": "python3"
  },
  "language_info": {
   "codemirror_mode": {
    "name": "ipython",
    "version": 3
   },
   "file_extension": ".py",
   "mimetype": "text/x-python",
   "name": "python",
   "nbconvert_exporter": "python",
   "pygments_lexer": "ipython3",
   "version": "3.6.1"
  }
 },
 "nbformat": 4,
 "nbformat_minor": 2
}
